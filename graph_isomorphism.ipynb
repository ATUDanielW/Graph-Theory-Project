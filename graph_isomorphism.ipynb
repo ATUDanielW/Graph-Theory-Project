{
 "cells": [
  {
   "cell_type": "code",
   "execution_count": null,
   "metadata": {},
   "outputs": [],
   "source": [
    "# Graph Theory \n",
    "\n",
    "### By Daniel Wosik\n",
    "### G00386720@atu.ie"
   ]
  },
  {
   "cell_type": "code",
   "execution_count": 3,
   "metadata": {},
   "outputs": [],
   "source": [
    "#                                               Graph Theory Project 2023\n",
    "##      What is Graph Theory?\n",
    "#####The study of the structure and characteristics of graphs, which are mathematical objects made up of vertices (or nodes) and edges linking them, is known as graph theory.\n",
    "#####It has uses in several disciplines, including physics, operations research, and computer science.\n"
   ]
  },
  {
   "attachments": {},
   "cell_type": "markdown",
   "metadata": {},
   "source": [
    "![Alt text](GraphTheoryNode.JPG)"
   ]
  },
  {
   "cell_type": "code",
   "execution_count": 4,
   "metadata": {},
   "outputs": [],
   "source": [
    "##      What is Graph Isomorphism?\n",
    "##### The mathematical concept called \"graph isomorphism\" implies the similarity of two graphs.\n",
    "##### If there is a one-to-one and onto mapping between the vertices of two graphs, and the edges connecting the vertices are preserved, then the graphs are said to be isomorphic.\n",
    "##### To put it another way, if two graphs are isomorphic, they have the same structure, meaning they contain the same quantity of vertices, edges, and connections between them.\n",
    "##### The labelling of the vertices is the only distinction between the two graphs.\n",
    "##### The graph isomorphism problem, often known as the isomorphism issue, is a challenging computing problem that asks if two graphs are isomorphic.\n",
    "##### It is one of the most researched issues in computational complexity theory, however it is unknown whether it can be solved in polynomial time.\n",
    "##### Cryptography, pattern recognition, and computer vision are all uses for graph isomorphism.\n",
    "##### To make judgments or solve problems, it is frequently crucial in these domains to establish whether two graphs are equal."
   ]
  },
  {
   "cell_type": "code",
   "execution_count": 5,
   "metadata": {},
   "outputs": [
    {
     "name": "stdout",
     "output_type": "stream",
     "text": [
      "The two graphs are isomorphic.\n"
     ]
    }
   ],
   "source": [
    "##### In Python you can use libraries to work with graph theory and much more but for now lets just focus on checking for isomorphism using the NetworkX library:\n",
    "\n",
    "\n",
    "import networkx as nx\n",
    "\n",
    "##### Create two graphs:\n",
    "\n",
    "Graph1 = nx.Graph()\n",
    "Graph1.add_edges_from([(1, 2), (1, 3), (2, 3), (3, 4)])\n",
    "Graph2 = nx.Graph()\n",
    "Graph2.add_edges_from([(a, b) for (a, b) in [(4, 5), (4, 6), (5, 6), (6, 7)]])\n",
    "\n",
    "##### Check if the two graphs we created are isomorphic?\n",
    "\n",
    "if nx.is_isomorphic(Graph1, Graph2):\n",
    "    print(\"The two graphs are isomorphic.\")\n",
    "else:\n",
    "    print(\"The two graphs are not isomorphic.\")\n",
    "\n",
    "\n",
    "##### In this example code we create to different Graphs Graph1 and Graph2 and add edges to them. Then from the NetworkX library we use the function \"is_isomorphic\" to chech the two graphs.\n",
    "##### The function returns true if the graphs are isomorphic and of course false if they are not"
   ]
  },
  {
   "cell_type": "code",
   "execution_count": null,
   "metadata": {},
   "outputs": [],
   "source": []
  }
 ],
 "metadata": {
  "kernelspec": {
   "display_name": "base",
   "language": "python",
   "name": "python3"
  },
  "language_info": {
   "codemirror_mode": {
    "name": "ipython",
    "version": 3
   },
   "file_extension": ".py",
   "mimetype": "text/x-python",
   "name": "python",
   "nbconvert_exporter": "python",
   "pygments_lexer": "ipython3",
   "version": "3.9.13"
  },
  "orig_nbformat": 4,
  "vscode": {
   "interpreter": {
    "hash": "6e1bb162e8bfc99a410f9c41fd7744f2a7b410fc5780b23ba3f6aa92109c9c54"
   }
  }
 },
 "nbformat": 4,
 "nbformat_minor": 2
}
