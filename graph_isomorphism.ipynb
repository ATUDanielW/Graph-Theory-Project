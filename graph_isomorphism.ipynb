{
 "cells": [
  {
   "cell_type": "markdown",
   "metadata": {},
   "source": [
    "# Graph Theory \n",
    "\n",
    "### By Daniel Wosik\n",
    "### G00386720@atu.ie"
   ]
  },
  {
   "cell_type": "markdown",
   "metadata": {},
   "source": [
    "#                                               Graph Theory Project 2023\n",
    "##      What is Graph Theory?\n",
    "##### The study of the structure and characteristics of graphs, which are mathematical objects made up of vertices (or nodes) and edgeslinking them, is known as graph theory.\n",
    "##### It has uses in several disciplines, including physics, operations research, and computer science."
   ]
  },
  {
   "attachments": {},
   "cell_type": "markdown",
   "metadata": {},
   "source": [
    "![Alt text](Pictures/GraphTheoryNode.JPG)"
   ]
  },
  {
   "cell_type": "markdown",
   "metadata": {},
   "source": [
    "##      What is Graph Isomorphism?\n",
    "##### The mathematical concept called \"graph isomorphism\" implies the similarity of two graphs.\n",
    "##### If there is a one-to-one and onto mapping between the vertices of two graphs, and the edges connecting the vertices are preserved,\n",
    "##### then the graphs are said to be isomorphic.\n",
    "##### To put it another way, if two graphs are isomorphic, they have the same structure, meaning they contain the same quantity of vertices,\n",
    "##### edges, and connections between them.\n",
    "##### The labelling of the vertices is the only distinction between the two graphs.\n",
    "##### The graph isomorphism problem, often known as the isomorphism issue, is a challenging computing problem that asks if two graphs are isomorphic.\n",
    "##### It is one of the most researched issues in computational complexity theory, however it is unknown whether it can be solved in polynomial time.\n",
    "##### Cryptography, pattern recognition, and computer vision are all uses for graph isomorphism.\n",
    "##### To make judgments or solve problems, it is frequently crucial in these domains to establish whether two graphs are equal."
   ]
  },
  {
   "attachments": {},
   "cell_type": "markdown",
   "metadata": {},
   "source": [
    "## Graph Isomorphism Problem\n",
    "##### The Isomorphism graph can be a graph in which single graph can have more than just one form. As confusing as it sounds basically means that graph can have same exact number of edges and vertices connectivity yet being to different graphs. The graph isomorphism problem is computational problem of solving whether two absolute graphs are isomorphic."
   ]
  },
  {
   "attachments": {},
   "cell_type": "markdown",
   "metadata": {},
   "source": [
    "## Vertex in Graph Theory\n",
    "##### Vertex is a point or node where edges connect, representing a single entity in the graph. It can be thought of as a location (point) in a network that connects to other locations (point) through edges."
   ]
  },
  {
   "attachments": {},
   "cell_type": "markdown",
   "metadata": {},
   "source": [
    "## Edge in Graph theory\n",
    "##### An edge is a line or connection between two vertices/nodes/points on a or in the graph. It represents a relationship between the two entities that the vertices represent."
   ]
  },
  {
   "attachments": {},
   "cell_type": "markdown",
   "metadata": {},
   "source": [
    "#### Let's start with some easy visual examples, to see which graphs are isomorphic."
   ]
  },
  {
   "attachments": {},
   "cell_type": "markdown",
   "metadata": {},
   "source": [
    "##### Looking at two graphs G1 and G2 are said to be isomorphic if - Their number of nodes (vertices and edges) are the same or their edge connectivity is retained."
   ]
  },
  {
   "attachments": {},
   "cell_type": "markdown",
   "metadata": {},
   "source": [
    "##### If you count the nodes where lines connect, in both G1 and G2 they have same amount of nodes which makes second graph a changed version of the first one."
   ]
  },
  {
   "attachments": {},
   "cell_type": "markdown",
   "metadata": {},
   "source": [
    "![Alt text](Pictures/IsomorphicExample1.PNG)"
   ]
  },
  {
   "attachments": {},
   "cell_type": "markdown",
   "metadata": {},
   "source": [
    "##### Looking at all 3 graphs we notice straight away that one has no similarity within intself, see in graph G3... corner (vertex) 'w' has line coming out the conrner which is at totally different degree level compering others which makes it not isomorphic."
   ]
  },
  {
   "attachments": {},
   "cell_type": "markdown",
   "metadata": {},
   "source": [
    "### Adjacency Matrix\n",
    "##### Adjacency Matrix is a rapresentation of a graph, where rows and columns show vertices and entries represent edges between those vetrices. If there is and edge between vertex i and vertex j, so as example below when entry in the i row and j column is 1 otherwise is 0.\n",
    "##### Supposibly the best way to represent them into matrix, is by counting the number of edges between the adjacent vertices."
   ]
  },
  {
   "cell_type": "code",
   "execution_count": null,
   "metadata": {},
   "outputs": [],
   "source": [
    "n = 3\n",
    "ajdacency_matrix = [[0 for j in range (n)] for i in range (n)]\n",
    "\n",
    "ajdacency_matrix[0][1] = 1\n",
    "ajdacency_matrix[1][2] = 1\n",
    "ajdacency_matrix[2][0] = 1\n",
    "\n",
    "for row in ajdacency_matrix:\n",
    "    print(row)"
   ]
  },
  {
   "attachments": {},
   "cell_type": "markdown",
   "metadata": {},
   "source": [
    "### Advantages of Adjacency Matrix\n",
    "##### 1. Easy to implement: It's pretty easy to implement, as it can be represented just by using a 2D array.\n",
    "##### 2. Efficient for dense graphs: It's supposed to be efficient representing complicated graphs, where most of the possible edges are present.\n",
    "##### 3. Fast edges queries: This can be applied in network analysis as it can check if edges exists between two vertices."
   ]
  },
  {
   "attachments": {},
   "cell_type": "markdown",
   "metadata": {},
   "source": [
    "### Disadvatages of Adjacency Matrix\n",
    "##### 1. Not suitable for directed graphs with parallel edges: just because it can only rapresent one edge between two vetrices.\n",
    "##### 2. Not Suitable for dynamic graphs: it's just not well suited for the graphs where structure changes frequently \n",
    "##### 3. Limited scalability: not good for large graphs"
   ]
  },
  {
   "attachments": {},
   "cell_type": "markdown",
   "metadata": {},
   "source": [
    "### Adjacency List\n",
    "##### This Adjacency is a data structure used where each vertex in the graph is connected with a list of its neighboring vertices\n",
    "### Advantages:\n",
    "##### 1. Fast Edge addition and removal\n",
    "##### 2. Suitable for directed graphs with parallel edges\n",
    "##### 3. Suitable for dynamic graphs\n",
    "### Disadvantages:\n",
    "##### 1. Slower queries\n",
    "##### 2. Less efficient for dense graphs\n",
    "##### 3. Not suitable for certain graphs for example they're not great for multiplication, as it does not support operaions directly."
   ]
  },
  {
   "attachments": {},
   "cell_type": "markdown",
   "metadata": {},
   "source": [
    "### Planar Graphs\n",
    "##### If a graph can be drawn on a plane or sphere without any edges meeting at non-vertex points, it's called planar."
   ]
  },
  {
   "attachments": {},
   "cell_type": "markdown",
   "metadata": {},
   "source": [
    "![Alt text](Pictures/PlanarGraph.PNG)"
   ]
  },
  {
   "attachments": {},
   "cell_type": "markdown",
   "metadata": {},
   "source": [
    "##### Every planar graph divides plane into areas called regions.\n",
    "##### A region in graph has connected piece of the complement graph, that connected piece is reffered as region. A graph's complement consists of the same vertices as the original graph but adds an edge connecting each pair of vertices that are not adjacent in the original graph. Let's look at visual example below."
   ]
  },
  {
   "attachments": {},
   "cell_type": "markdown",
   "metadata": {},
   "source": [
    "![Alt text](Pictures/RegionGraph.PNG)  "
   ]
  },
  {
   "attachments": {},
   "cell_type": "markdown",
   "metadata": {},
   "source": [
    "##### When we talk about isomorphism between graphs, we can also talk about isomorphism between their regions. if two Graphs are isomorphic, then their regions are also isomorphic. This is because graphs hold adjacency relationships and the complement graph of region is defined based on that."
   ]
  },
  {
   "attachments": {},
   "cell_type": "markdown",
   "metadata": {},
   "source": [
    "#### Here's example of graphs that hold same adjacency relationships using networkX and mtplotlib to show the graph"
   ]
  },
  {
   "cell_type": "code",
   "execution_count": null,
   "metadata": {},
   "outputs": [],
   "source": [
    "import networkx as nx\n",
    "import matplotlib.pyplot as plt\n",
    "\n",
    "# Create a new graph\n",
    "G = nx.Graph()\n",
    "\n",
    "# Add nodes to the graph\n",
    "G.add_nodes_from(['A', 'B', 'C', 'D'])\n",
    "\n",
    "# Add edges to the graph\n",
    "G.add_edges_from([('A', 'B'), ('A', 'C'), ('B', 'D'), ('C', 'D')])\n",
    "\n",
    "# Draw the graph using Matplotlib\n",
    "nx.draw(G, with_labels=True)\n",
    "plt.show()"
   ]
  },
  {
   "cell_type": "markdown",
   "metadata": {},
   "source": [
    "##### In Python you can use libraries to work with graph theory and much more but for now lets just focus on checking for isomorphism\n",
    "##### using the NetworkX library:"
   ]
  },
  {
   "cell_type": "code",
   "execution_count": null,
   "metadata": {},
   "outputs": [],
   "source": [
    "import networkx as nx\n",
    "\n",
    "##### Create two graphs:\n",
    "\n",
    "Graph1 = nx.Graph()\n",
    "Graph1.add_edges_from([(1, 2), (1, 3), (2, 3), (3, 4)])\n",
    "Graph2 = nx.Graph()\n",
    "Graph2.add_edges_from([(a, b) for (a, b) in [(4, 5), (4, 6), (5, 6), (6, 7)]])\n",
    "\n",
    "##### Check if the two graphs we created are isomorphic?\n",
    "\n",
    "if nx.is_isomorphic(Graph1, Graph2):\n",
    "    print(\"The two graphs are isomorphic.\")\n",
    "else:\n",
    "    print(\"The two graphs are not isomorphic.\")"
   ]
  },
  {
   "cell_type": "code",
   "execution_count": null,
   "metadata": {},
   "outputs": [],
   "source": [
    "import networkx as nx\n",
    "\n",
    "# Create two graphs:\n",
    "Graph1 = nx.Graph()\n",
    "Graph1.add_edges_from([(1,2),(2,3),(3,1),(2,4),(4,5),(5,2)])\n",
    "\n",
    "Graph2 = nx.Graph()\n",
    "Graph2.add_edges_from([(1,2),(2,3),(3,1),(2,4),(4,5),(5,1)])\n",
    "\n",
    "# Check if the graphs are isomorphic\n",
    "if nx.is_isomorphic(Graph1, Graph2):\n",
    "    print(\"The graphs are isomorphic.\")\n",
    "else:\n",
    "    print(\"The graphs are not isomorphic.\")"
   ]
  },
  {
   "cell_type": "markdown",
   "metadata": {},
   "source": [
    "##### In this example code we create to different Graphs Graph1 and Graph2 and add edges to them. Then from the NetworkX library\n",
    "##### we use the function \"is_isomorphic\" to chech the two graphs.\n",
    "##### The function returns true if the graphs are isomorphic and of course false if they are not"
   ]
  },
  {
   "cell_type": "markdown",
   "metadata": {},
   "source": [
    "#### "
   ]
  },
  {
   "cell_type": "markdown",
   "metadata": {},
   "source": [
    "## Different types of code plots in Graph Theory\n",
    "##### There are several different types of plots in Graph Theory: \n",
    "##### Line Plot, Bar Plot, Scatter Plot, Pie Plot, Area Plot and Histagram Plot. I'll try my best to explain them to my current understanding and will reference websites that i used to gather all that information.\n",
    "#### What are Plots?\n",
    "##### Plots are a visual rapresentation of data in a form of graphics. Graphs explain all the different relationships between data with points, lines, symbols, llabels and numbers so that anyone who reading the data can make understanding of it of course depending on their knowdlege about the topic."
   ]
  },
  {
   "cell_type": "markdown",
   "metadata": {},
   "source": [
    "#### Line Plots\n",
    "##### Line plots are straight lines connected to the data points where x-axis abd y-axis values overlap to create line graphs. The simplest way to rapresent data is with this line plot. For Example.:"
   ]
  },
  {
   "cell_type": "code",
   "execution_count": null,
   "metadata": {},
   "outputs": [],
   "source": [
    "import matplotlib.pyplot as pyplot\n",
    "\n",
    "pyplot.plot([1,2,3,5,6], [1, 2, 3, 4, 6])\n",
    "pyplot.axis([0, 7, 0, 10])\n",
    "\n",
    "# Print the chart\n",
    "pyplot.show()"
   ]
  },
  {
   "cell_type": "markdown",
   "metadata": {},
   "source": [
    "#### Bar Plot\n",
    "##### Bar Plots are rectangular graphs and are used to compare data where you can look at changes over certain period of time rapresented in another axis(mainly X-axis). Each bar can store multiple value and of course the greater the value the more vaalue graph holds."
   ]
  },
  {
   "cell_type": "code",
   "execution_count": null,
   "metadata": {},
   "outputs": [],
   "source": [
    "import matplotlib.pyplot as pyplot\n",
    "\n",
    "pyplot.bar([0.25,2.25,3.25,5.25,7.25],[300,400,200,600,700],\n",
    "label=\"Carpenter\",color='b',width=0.5)\n",
    "pyplot.bar([0.75,1.75,2.75,3.75,4.75],[50,30,20,50,60],\n",
    "label=\"Plumber\", color='g',width=.5)\n",
    "pyplot.legend()\n",
    "pyplot.xlabel('Days')\n",
    "pyplot.ylabel('Wage')\n",
    "pyplot.title('Details')\n",
    "\n",
    "# Print the chart\n",
    "pyplot.show()"
   ]
  },
  {
   "cell_type": "markdown",
   "metadata": {},
   "source": [
    "#### Scatter Plot\n",
    "##### Scatter Plot can be used to compare multiple data variables and establish the relationship between dependent and independent variables. Data is presented as a collection of points stuck together meaningfully. For Example.:"
   ]
  },
  {
   "cell_type": "code",
   "execution_count": null,
   "metadata": {},
   "outputs": [],
   "source": [
    "import matplotlib.pyplot as pyplot\n",
    "\n",
    "x1 = [1, 2.5,3,4.5,5,6.5,7]\n",
    "y1 = [1,2, 3, 2, 1, 3, 4]\n",
    "x2=[8, 8.5, 9, 9.5, 10, 10.5, 11]\n",
    "y2=[3,3.5, 3.7, 4,4.5, 5, 5.2]\n",
    "pyplot.scatter(x1, y1, label = 'high bp low heartrate', color='c')\n",
    "pyplot.scatter(x2,y2,label='low bp high heartrate',color='g')\n",
    "pyplot.title('Smart Band Data Report')\n",
    "pyplot.xlabel('x')\n",
    "pyplot.ylabel('y')\n",
    "pyplot.legend()\n",
    "\n",
    "# Print the chart\n",
    "pyplot.show()"
   ]
  },
  {
   "cell_type": "markdown",
   "metadata": {},
   "source": [
    "#### Pie Plot\n",
    "##### Your right! It already explains itself, this type of graph is a circular. Where all the data represents itself within that component of the pie or slice. Analysts use them to express percentages or proportional statistics. For Example.:"
   ]
  },
  {
   "cell_type": "code",
   "execution_count": null,
   "metadata": {},
   "outputs": [],
   "source": [
    "import matplotlib.pyplot as pyplot\n",
    "\n",
    "slice = [12, 25, 50, 36, 19]\n",
    "activities = ['NLP','Neural Network', 'Data analytics', 'Quantum Computing', 'Machine Learning']\n",
    "cols = ['r','b','c','g', 'orange']\n",
    "pyplot.pie(slice,\n",
    "labels =activities,\n",
    "colors = cols,\n",
    "startangle = 90,\n",
    "shadow = True,\n",
    "explode =(0,0.1,0,0,0),\n",
    "autopct ='%1.1f%%')\n",
    "pyplot.title('Training Subjects')\n",
    "\n",
    "# Print the chart\n",
    "pyplot.show()"
   ]
  },
  {
   "cell_type": "markdown",
   "metadata": {},
   "source": [
    "#### Area Plot\n",
    "##### Area Plots are also known as stack plots and they split across areas with ups and downs. They have a similar appearance to line plots and help in monitoring changes over time for two or more related groups."
   ]
  },
  {
   "cell_type": "code",
   "execution_count": null,
   "metadata": {},
   "outputs": [],
   "source": [
    "import matplotlib.pyplot as pyplot\n",
    "\n",
    "days = [1,2,3,4,5]\n",
    "age =[63, 81, 52, 22, 37]\n",
    "weight =[17, 28, 72, 52, 32]\n",
    "pyplot.plot([],[], color='c', label = 'Weather Predicted', linewidth=5)\n",
    "pyplot.plot([],[],color = 'g', label='Weather Change happened', linewidth=5)\n",
    "pyplot.stackplot(days, age, weight, colors = ['c', 'g'])\n",
    "pyplot.xlabel('Fluctuation with time')\n",
    "pyplot.ylabel('Days')\n",
    "pyplot.title('Weather report using Area Plot')\n",
    "pyplot.legend()\n",
    "\n",
    "# Print the chart\n",
    "pyplot.show()"
   ]
  },
  {
   "cell_type": "markdown",
   "metadata": {},
   "source": [
    "## Matrices in Python\n",
    "##### Python is well known for how clean and neat is with data readability, it can handle data well with tons of different techniques using Dictionaries, Tuples, Matrices, etc."
   ]
  },
  {
   "cell_type": "markdown",
   "metadata": {},
   "source": [
    "#### What is Matrix in Python?\n",
    "##### It's a two-dimensional array data structure where numbers are positioned into rows and columns."
   ]
  },
  {
   "cell_type": "markdown",
   "metadata": {},
   "source": [
    "![Alt text](Pictures/Matrix4x3.png)"
   ]
  },
  {
   "cell_type": "markdown",
   "metadata": {},
   "source": [
    "#### Python Matrix\n",
    "##### "
   ]
  },
  {
   "cell_type": "markdown",
   "metadata": {},
   "source": [
    "## References:\n",
    "\n",
    "[Basic Definitions and Concepts](https://stanford.edu/~rezab/discrete/Notes/2.pdf)\n"
   ]
  },
  {
   "cell_type": "markdown",
   "metadata": {},
   "source": [
    "[Basic Concepts in Graph Theory](https://cr.yp.to/2005-261/bender2/GT.pdf)"
   ]
  },
  {
   "cell_type": "markdown",
   "metadata": {},
   "source": [
    "[Plots W3school](https://www.w3schools.in/matplotlib/tutorials/plot-types)"
   ]
  },
  {
   "cell_type": "markdown",
   "metadata": {},
   "source": [
    "[Matrix](https://www.w3schools.in/python-data-science/matrices-in-python)"
   ]
  },
  {
   "cell_type": "markdown",
   "metadata": {},
   "source": [
    "[Basic Concepts in Graph Theory](https://cr.yp.to/2005-261/bender2/GT.pdf)"
   ]
  },
  {
   "attachments": {},
   "cell_type": "markdown",
   "metadata": {},
   "source": [
    "[Isomorphism](https://www.tutorialspoint.com/graph_theory/graph_theory_isomorphism.htm#)"
   ]
  },
  {
   "cell_type": "markdown",
   "metadata": {},
   "source": [
    "[Vertex](https://mathinsight.org/definition/graph_vertex#:~:text=A%20vertex%20(or%20node)%20of,and%2011%20edges%20(links).) "
   ]
  },
  {
   "attachments": {},
   "cell_type": "markdown",
   "metadata": {},
   "source": [
    "[Edge](https://mathinsight.org/definition/network_edge#:~:text=An%20edge%20(or%20link)%20of,in%20the%20first%20figure%20below.) "
   ]
  },
  {
   "attachments": {},
   "cell_type": "markdown",
   "metadata": {},
   "source": [
    "[Isomorphism Problem](https://en.wikipedia.org/wiki/Graph_isomorphism_problem#:~:text=The%20graph%20isomorphism%20problem%20is,computational%20complexity%20class%20NP-intermediate.)"
   ]
  },
  {
   "attachments": {},
   "cell_type": "markdown",
   "metadata": {},
   "source": [
    "[Adjacency Matrix](https://people.revoledu.com/kardi/tutorial/GraphTheory/Adjacency-Matrix.html#:~:text=Adjacency%20Matrix%20of%20a%20Graph&text=To%20fill%20the%20adjacency%20matrix,this%20number%20as%20matrix%20element.&text=The%20matrix%20to%20represent%20a,way%20is%20called%20Adjacency%20matrix%20.)"
   ]
  }
 ],
 "metadata": {
  "interpreter": {
   "hash": "ad2bdc8ecc057115af97d19610ffacc2b4e99fae6737bb82f5d7fb13d2f2c186"
  },
  "kernelspec": {
   "display_name": "Python 3.7.3 ('base')",
   "language": "python",
   "name": "python3"
  },
  "language_info": {
   "codemirror_mode": {
    "name": "ipython",
    "version": 3
   },
   "file_extension": ".py",
   "mimetype": "text/x-python",
   "name": "python",
   "nbconvert_exporter": "python",
   "pygments_lexer": "ipython3",
   "version": "3.10.4"
  },
  "orig_nbformat": 4,
  "vscode": {
   "interpreter": {
    "hash": "6e1bb162e8bfc99a410f9c41fd7744f2a7b410fc5780b23ba3f6aa92109c9c54"
   }
  }
 },
 "nbformat": 4,
 "nbformat_minor": 2
}
