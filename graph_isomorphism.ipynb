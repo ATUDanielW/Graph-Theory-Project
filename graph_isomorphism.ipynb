{
 "cells": [
  {
   "cell_type": "markdown",
   "metadata": {},
   "source": [
    "# Graph Theory \n",
    "\n",
    "### By Daniel Wosik\n",
    "### G00386720@atu.ie"
   ]
  },
  {
   "cell_type": "markdown",
   "metadata": {},
   "source": [
    "#                                               Graph Theory Project 2023\n",
    "##      What is Graph Theory?\n",
    "##### The study of the structure and characteristics of graphs, which are mathematical objects made up of vertices (or nodes) and edgeslinking them, is known as graph theory.\n",
    "##### It has uses in several disciplines, including physics, operations research, and computer science."
   ]
  },
  {
   "attachments": {},
   "cell_type": "markdown",
   "metadata": {},
   "source": [
    "![Alt text](GraphTheoryNode.JPG)"
   ]
  },
  {
   "cell_type": "markdown",
   "metadata": {},
   "source": [
    "##      What is Graph Isomorphism?\n",
    "##### The mathematical concept called \"graph isomorphism\" implies the similarity of two graphs.\n",
    "##### If there is a one-to-one and onto mapping between the vertices of two graphs, and the edges connecting the vertices are preserved,\n",
    "##### then the graphs are said to be isomorphic.\n",
    "##### To put it another way, if two graphs are isomorphic, they have the same structure, meaning they contain the same quantity of vertices,\n",
    "##### edges, and connections between them.\n",
    "##### The labelling of the vertices is the only distinction between the two graphs.\n",
    "##### The graph isomorphism problem, often known as the isomorphism issue, is a challenging computing problem that asks if two graphs are isomorphic.\n",
    "##### It is one of the most researched issues in computational complexity theory, however it is unknown whether it can be solved in polynomial time.\n",
    "##### Cryptography, pattern recognition, and computer vision are all uses for graph isomorphism.\n",
    "##### To make judgments or solve problems, it is frequently crucial in these domains to establish whether two graphs are equal."
   ]
  },
  {
   "cell_type": "markdown",
   "metadata": {},
   "source": [
    "##### In Python you can use libraries to work with graph theory and much more but for now lets just focus on checking for isomorphism\n",
    "##### using the NetworkX library:"
   ]
  },
  {
   "cell_type": "code",
   "execution_count": 5,
   "metadata": {},
   "outputs": [
    {
     "name": "stdout",
     "output_type": "stream",
     "text": [
      "The two graphs are isomorphic.\n"
     ]
    }
   ],
   "source": [
    "import networkx as nx\n",
    "\n",
    "##### Create two graphs:\n",
    "\n",
    "Graph1 = nx.Graph()\n",
    "Graph1.add_edges_from([(1, 2), (1, 3), (2, 3), (3, 4)])\n",
    "Graph2 = nx.Graph()\n",
    "Graph2.add_edges_from([(a, b) for (a, b) in [(4, 5), (4, 6), (5, 6), (6, 7)]])\n",
    "\n",
    "##### Check if the two graphs we created are isomorphic?\n",
    "\n",
    "if nx.is_isomorphic(Graph1, Graph2):\n",
    "    print(\"The two graphs are isomorphic.\")\n",
    "else:\n",
    "    print(\"The two graphs are not isomorphic.\")"
   ]
  },
  {
   "cell_type": "markdown",
   "metadata": {},
   "source": [
    "##### In this example code we create to different Graphs Graph1 and Graph2 and add edges to them. Then from the NetworkX library\n",
    "##### we use the function \"is_isomorphic\" to chech the two graphs.\n",
    "##### The function returns true if the graphs are isomorphic and of course false if they are not"
   ]
  },
  {
   "cell_type": "markdown",
   "metadata": {},
   "source": [
    "## Different types of code plots in Graph Theory\n",
    "##### There are several different types of plots in Graph Theory: \n",
    "##### Line Plot, Bar Plot, Scatter Plot, Pie Plot, Area Plot and Histagram Plot. I'll try my best to explain them to my current understanding and will reference websites that i used to gather all that information.\n",
    "#### What are Plots?\n",
    "##### Plots are a visual rapresentation of data in a form of graphics. Graphs explain all the different relationships between data with points, lines, symbols, llabels and numbers so that anyone who reading the data can make understanding of it of course depending on their knowdlege about the topic."
   ]
  },
  {
   "cell_type": "markdown",
   "metadata": {},
   "source": [
    "#### Line Plots\n",
    "##### Line plots are straight lines connected to the data points where x-axis abd y-axis values overlap to create line graphs. The simplest way to rapresent data is with this line plot. For Example.:"
   ]
  },
  {
   "cell_type": "code",
   "execution_count": null,
   "metadata": {},
   "outputs": [],
   "source": [
    "import matplotlib.pyplot as pyplot\n",
    "\n",
    "pyplot.plot([1,2,3,5,6], [1, 2, 3, 4, 6])\n",
    "pyplot.axis([0, 7, 0, 10])\n",
    "\n",
    "# Print the chart\n",
    "pyplot.show()"
   ]
  },
  {
   "cell_type": "markdown",
   "metadata": {},
   "source": [
    "#### Bar Plot\n",
    "##### Bar Plots are rectangular graphs and are used to compare data where you can look at changes over certain period of time rapresented in another axis(mainly X-axis). Each bar can store multiple value and of course the greater the value the more vaalue graph holds."
   ]
  },
  {
   "cell_type": "code",
   "execution_count": null,
   "metadata": {},
   "outputs": [],
   "source": [
    "import matplotlib.pyplot as pyplot\n",
    "\n",
    "pyplot.bar([0.25,2.25,3.25,5.25,7.25],[300,400,200,600,700],\n",
    "label=\"Carpenter\",color='b',width=0.5)\n",
    "pyplot.bar([0.75,1.75,2.75,3.75,4.75],[50,30,20,50,60],\n",
    "label=\"Plumber\", color='g',width=.5)\n",
    "pyplot.legend()\n",
    "pyplot.xlabel('Days')\n",
    "pyplot.ylabel('Wage')\n",
    "pyplot.title('Details')\n",
    "\n",
    "# Print the chart\n",
    "pyplot.show()"
   ]
  },
  {
   "cell_type": "markdown",
   "metadata": {},
   "source": [
    "#### Scatter Plot\n",
    "##### Scatter Plot can be used to compare multiple data variables and establish the relationship between dependent and independent variables. Data is presented as a collection of points stuck together meaningfully. For Example.:"
   ]
  },
  {
   "cell_type": "code",
   "execution_count": null,
   "metadata": {},
   "outputs": [],
   "source": [
    "import matplotlib.pyplot as pyplot\n",
    "\n",
    "x1 = [1, 2.5,3,4.5,5,6.5,7]\n",
    "y1 = [1,2, 3, 2, 1, 3, 4]\n",
    "x2=[8, 8.5, 9, 9.5, 10, 10.5, 11]\n",
    "y2=[3,3.5, 3.7, 4,4.5, 5, 5.2]\n",
    "pyplot.scatter(x1, y1, label = 'high bp low heartrate', color='c')\n",
    "pyplot.scatter(x2,y2,label='low bp high heartrate',color='g')\n",
    "pyplot.title('Smart Band Data Report')\n",
    "pyplot.xlabel('x')\n",
    "pyplot.ylabel('y')\n",
    "pyplot.legend()\n",
    "\n",
    "# Print the chart\n",
    "pyplot.show()"
   ]
  },
  {
   "cell_type": "markdown",
   "metadata": {},
   "source": [
    "#### Pie Plot\n",
    "##### Your right! It already explains itself, this type of graph is a circular. Where all the data represents itself within that component of the pie or slice. Analysts use them to express percentages or proportional statistics. For Example.:"
   ]
  },
  {
   "cell_type": "code",
   "execution_count": null,
   "metadata": {},
   "outputs": [],
   "source": [
    "import matplotlib.pyplot as pyplot\n",
    "\n",
    "slice = [12, 25, 50, 36, 19]\n",
    "activities = ['NLP','Neural Network', 'Data analytics', 'Quantum Computing', 'Machine Learning']\n",
    "cols = ['r','b','c','g', 'orange']\n",
    "pyplot.pie(slice,\n",
    "labels =activities,\n",
    "colors = cols,\n",
    "startangle = 90,\n",
    "shadow = True,\n",
    "explode =(0,0.1,0,0,0),\n",
    "autopct ='%1.1f%%')\n",
    "pyplot.title('Training Subjects')\n",
    "\n",
    "# Print the chart\n",
    "pyplot.show()"
   ]
  },
  {
   "cell_type": "markdown",
   "metadata": {},
   "source": [
    "## References:\n",
    "\n",
    "[Basic Definitions and Concepts](https://stanford.edu/~rezab/discrete/Notes/2.pdf)\n"
   ]
  },
  {
   "cell_type": "markdown",
   "metadata": {},
   "source": [
    "[Basic Concepts in Graph Theory](https://cr.yp.to/2005-261/bender2/GT.pdf)"
   ]
  },
  {
   "cell_type": "markdown",
   "metadata": {},
   "source": [
    "[Plots W3school](https://www.w3schools.in/matplotlib/tutorials/plot-types)"
   ]
  }
 ],
 "metadata": {
  "interpreter": {
   "hash": "369f2c481f4da34e4445cda3fffd2e751bd1c4d706f27375911949ba6bb62e1c"
  },
  "kernelspec": {
   "display_name": "Python 3.10.4 64-bit",
   "language": "python",
   "name": "python3"
  },
  "language_info": {
   "codemirror_mode": {
    "name": "ipython",
    "version": 3
   },
   "file_extension": ".py",
   "mimetype": "text/x-python",
   "name": "python",
   "nbconvert_exporter": "python",
   "pygments_lexer": "ipython3",
   "version": "3.10.4"
  },
  "orig_nbformat": 4,
  "vscode": {
   "interpreter": {
    "hash": "6e1bb162e8bfc99a410f9c41fd7744f2a7b410fc5780b23ba3f6aa92109c9c54"
   }
  }
 },
 "nbformat": 4,
 "nbformat_minor": 2
}
